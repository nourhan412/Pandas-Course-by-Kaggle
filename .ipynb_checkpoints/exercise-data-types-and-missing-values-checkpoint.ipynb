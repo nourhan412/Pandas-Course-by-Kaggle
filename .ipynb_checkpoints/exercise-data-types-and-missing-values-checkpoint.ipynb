{
 "cells": [
  {
   "cell_type": "markdown",
   "metadata": {},
   "source": [
    "**This notebook is an exercise in the [Pandas](https://www.kaggle.com/learn/pandas) course.  You can reference the tutorial at [this link](https://www.kaggle.com/residentmario/data-types-and-missing-values).**\n",
    "\n",
    "---\n"
   ]
  },
  {
   "cell_type": "markdown",
   "metadata": {},
   "source": [
    "# Introduction\n",
    "\n",
    "Run the following cell to load your data and some utility functions."
   ]
  },
  {
   "cell_type": "code",
   "execution_count": null,
   "metadata": {
    "execution": {
     "iopub.execute_input": "2022-03-19T22:58:42.218755Z",
     "iopub.status.busy": "2022-03-19T22:58:42.218549Z",
     "iopub.status.idle": "2022-03-19T22:58:43.093149Z",
     "shell.execute_reply": "2022-03-19T22:58:43.091708Z",
     "shell.execute_reply.started": "2022-03-19T22:58:42.218733Z"
    }
   },
   "outputs": [],
   "source": [
    "import pandas as pd\n",
    "\n",
    "reviews = pd.read_csv(\"../input/wine-reviews/winemag-data-130k-v2.csv\", index_col=0)\n",
    "\n",
    "from learntools.core import binder; binder.bind(globals())\n",
    "from learntools.pandas.data_types_and_missing_data import *\n",
    "print(\"Setup complete.\")\n",
    "reviews.head()"
   ]
  },
  {
   "cell_type": "markdown",
   "metadata": {},
   "source": [
    "# Exercises"
   ]
  },
  {
   "cell_type": "markdown",
   "metadata": {},
   "source": [
    "## 1. \n",
    "What is the data type of the `points` column in the dataset?"
   ]
  },
  {
   "cell_type": "code",
   "execution_count": null,
   "metadata": {
    "execution": {
     "iopub.execute_input": "2022-03-19T22:59:11.923178Z",
     "iopub.status.busy": "2022-03-19T22:59:11.922968Z",
     "iopub.status.idle": "2022-03-19T22:59:11.929956Z",
     "shell.execute_reply": "2022-03-19T22:59:11.929369Z",
     "shell.execute_reply.started": "2022-03-19T22:59:11.923156Z"
    }
   },
   "outputs": [],
   "source": [
    "# Your code here\n",
    "dtype = reviews.points.dtype\n",
    "\n",
    "# Check your answer\n",
    "q1.check()"
   ]
  },
  {
   "cell_type": "code",
   "execution_count": null,
   "metadata": {},
   "outputs": [],
   "source": [
    "#q1.hint()\n",
    "#q1.solution()"
   ]
  },
  {
   "cell_type": "markdown",
   "metadata": {},
   "source": [
    "## 2. \n",
    "Create a Series from entries in the `points` column, but convert the entries to strings. Hint: strings are `str` in native Python."
   ]
  },
  {
   "cell_type": "code",
   "execution_count": null,
   "metadata": {
    "execution": {
     "iopub.execute_input": "2022-03-19T22:59:51.151386Z",
     "iopub.status.busy": "2022-03-19T22:59:51.151124Z",
     "iopub.status.idle": "2022-03-19T22:59:51.278037Z",
     "shell.execute_reply": "2022-03-19T22:59:51.277453Z",
     "shell.execute_reply.started": "2022-03-19T22:59:51.151358Z"
    }
   },
   "outputs": [],
   "source": [
    "point_strings = reviews.points.astype(str)\n",
    "\n",
    "# Check your answer\n",
    "q2.check()"
   ]
  },
  {
   "cell_type": "code",
   "execution_count": null,
   "metadata": {},
   "outputs": [],
   "source": [
    "#q2.hint()\n",
    "#q2.solution()"
   ]
  },
  {
   "cell_type": "markdown",
   "metadata": {},
   "source": [
    "## 3.\n",
    "Sometimes the price column is null. How many reviews in the dataset are missing a price?"
   ]
  },
  {
   "cell_type": "code",
   "execution_count": null,
   "metadata": {
    "execution": {
     "iopub.execute_input": "2022-03-19T23:02:33.525448Z",
     "iopub.status.busy": "2022-03-19T23:02:33.525171Z",
     "iopub.status.idle": "2022-03-19T23:02:33.541084Z",
     "shell.execute_reply": "2022-03-19T23:02:33.540595Z",
     "shell.execute_reply.started": "2022-03-19T23:02:33.52542Z"
    }
   },
   "outputs": [],
   "source": [
    "n_missing_prices = len(reviews[pd.isnull(reviews.price)])\n",
    "\n",
    "# Check your answer\n",
    "q3.check()"
   ]
  },
  {
   "cell_type": "code",
   "execution_count": null,
   "metadata": {},
   "outputs": [],
   "source": [
    "#q3.hint()\n",
    "#q3.solution()"
   ]
  },
  {
   "cell_type": "markdown",
   "metadata": {},
   "source": [
    "## 4.\n",
    "What are the most common wine-producing regions? Create a Series counting the number of times each value occurs in the `region_1` field. This field is often missing data, so replace missing values with `Unknown`. Sort in descending order.  Your output should look something like this:\n",
    "\n",
    "```\n",
    "Unknown                    21247\n",
    "Napa Valley                 4480\n",
    "                           ...  \n",
    "Bardolino Superiore            1\n",
    "Primitivo del Tarantino        1\n",
    "Name: region_1, Length: 1230, dtype: int64\n",
    "```"
   ]
  },
  {
   "cell_type": "code",
   "execution_count": null,
   "metadata": {
    "execution": {
     "iopub.execute_input": "2022-03-19T23:07:57.419144Z",
     "iopub.status.busy": "2022-03-19T23:07:57.418718Z",
     "iopub.status.idle": "2022-03-19T23:07:57.498094Z",
     "shell.execute_reply": "2022-03-19T23:07:57.49733Z",
     "shell.execute_reply.started": "2022-03-19T23:07:57.419115Z"
    }
   },
   "outputs": [],
   "source": [
    "reviews.region_1=reviews.region_1.fillna('Unknown')\n",
    "reviews_per_region = reviews.region_1.value_counts().sort_values(ascending=False)\n",
    "\n",
    "# Check your answer\n",
    "q4.check()"
   ]
  },
  {
   "cell_type": "code",
   "execution_count": null,
   "metadata": {
    "execution": {
     "iopub.execute_input": "2022-03-19T23:07:03.602816Z",
     "iopub.status.busy": "2022-03-19T23:07:03.602495Z",
     "iopub.status.idle": "2022-03-19T23:07:03.608341Z",
     "shell.execute_reply": "2022-03-19T23:07:03.60747Z",
     "shell.execute_reply.started": "2022-03-19T23:07:03.602793Z"
    }
   },
   "outputs": [],
   "source": [
    "#q4.hint()\n",
    "q4.solution()"
   ]
  },
  {
   "cell_type": "markdown",
   "metadata": {},
   "source": [
    "# Keep going\n",
    "\n",
    "Move on to **[renaming and combining](https://www.kaggle.com/residentmario/renaming-and-combining)**."
   ]
  },
  {
   "cell_type": "markdown",
   "metadata": {},
   "source": [
    "---\n",
    "\n",
    "\n",
    "\n",
    "\n",
    "*Have questions or comments? Visit the [course discussion forum](https://www.kaggle.com/learn/pandas/discussion) to chat with other learners.*"
   ]
  }
 ],
 "metadata": {
  "kernelspec": {
   "display_name": "Python 3",
   "language": "python",
   "name": "python3"
  },
  "language_info": {
   "codemirror_mode": {
    "name": "ipython",
    "version": 3
   },
   "file_extension": ".py",
   "mimetype": "text/x-python",
   "name": "python",
   "nbconvert_exporter": "python",
   "pygments_lexer": "ipython3",
   "version": "3.8.8"
  }
 },
 "nbformat": 4,
 "nbformat_minor": 4
}
